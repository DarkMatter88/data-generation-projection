{
 "cells": [
  {
   "cell_type": "markdown",
   "metadata": {},
   "source": [
    "# Stage 1"
   ]
  },
  {
   "cell_type": "code",
   "execution_count": 1,
   "metadata": {
    "ExecuteTime": {
     "end_time": "2019-08-08T12:16:24.731834Z",
     "start_time": "2019-08-08T12:16:24.471396Z"
    }
   },
   "outputs": [],
   "source": [
    "import numpy as np\n",
    "\n",
    "from mimesis import Person\n",
    "from mimesis.providers.payment import Payment\n",
    "from mimesis.enums import Gender, CardType"
   ]
  },
  {
   "cell_type": "code",
   "execution_count": 2,
   "metadata": {
    "ExecuteTime": {
     "end_time": "2019-08-08T12:16:26.543293Z",
     "start_time": "2019-08-08T12:16:25.597611Z"
    }
   },
   "outputs": [],
   "source": [
    "from scipy import stats\n",
    "import pandas as pd\n",
    "from itertools import cycle\n",
    "from datetime import datetime\n",
    "from datetime import timedelta\n",
    "import calendar\n",
    "import re\n",
    "\n",
    "import matplotlib.pyplot as plt\n",
    "%matplotlib inline"
   ]
  },
  {
   "cell_type": "code",
   "execution_count": 3,
   "metadata": {
    "ExecuteTime": {
     "end_time": "2019-08-08T12:16:26.550723Z",
     "start_time": "2019-08-08T12:16:26.546974Z"
    }
   },
   "outputs": [],
   "source": [
    "RANDOM_SEED = 2004"
   ]
  },
  {
   "cell_type": "code",
   "execution_count": 4,
   "metadata": {
    "ExecuteTime": {
     "end_time": "2019-08-08T12:16:27.887920Z",
     "start_time": "2019-08-08T12:16:27.723578Z"
    },
    "scrolled": true
   },
   "outputs": [],
   "source": [
    "class DataGenerator:\n",
    "\n",
    "    @staticmethod\n",
    "    def generate_personal_data(num_records):\n",
    "        person = Person('en')\n",
    "        payment = Payment()\n",
    "\n",
    "        dtype = np.dtype([\n",
    "            ('id', np.unicode_, 16),\n",
    "            ('full_name', np.unicode_, 32),\n",
    "            ('credit_card_number', np.unicode_, 32),\n",
    "            ('credit_card_expiration_date', np.unicode_, 8),\n",
    "            ('gender', np.unicode_, 1),\n",
    "            ('loan', np.float32)\n",
    "        ])\n",
    "\n",
    "        np.random.seed(RANDOM_SEED)\n",
    "        rng = np.random.randint(0, 2, num_records)\n",
    "\n",
    "        records_npy = np.empty(num_records, dtype=dtype)\n",
    "        for idx in range(num_records):\n",
    "            gender = Gender.MALE if rng[idx] == 0 else Gender.FEMALE\n",
    "            records_npy['id'][idx] = str('{:016d}'.format(idx))\n",
    "            records_npy['full_name'][idx] = person.full_name(gender=gender)\n",
    "            records_npy['credit_card_number'][idx] = payment.credit_card_number(card_type=CardType.VISA)\n",
    "            records_npy['credit_card_expiration_date'][idx] = payment.credit_card_expiration_date(\n",
    "                maximum=25, minimum=20)\n",
    "            records_npy['gender'][idx] = 'M' if rng[idx] == 0 else 'F'\n",
    "        records_npy['loan'] = np.random.uniform(low=1000, high=100000, size=num_records)\n",
    "        \n",
    "        records_npy = records_npy[:num_records]\n",
    "\n",
    "        return records_npy\n",
    "\n",
    "\n",
    "if __name__ == '__main__':\n",
    "\n",
    "    data = DataGenerator.generate_personal_data(1000)"
   ]
  },
  {
   "cell_type": "markdown",
   "metadata": {},
   "source": [
    "\n",
    "Generate input data that contains the next columns:\n",
    "\n",
    "1. full_name - random first and second name (using memesis library). Can be male or female\n",
    "2. credit_card_number - random VISA format ID (using memesis library)\n",
    "3. credit_card_expiration_date - month/year the range between 01/2020 and 01/2025 (using memesis library)\n",
    "4. gender - MALE/FEMALE\n",
    "4. loan - a random floating point number uniformly distributed in the range between 1000 and 100000 and minimum step 1000"
   ]
  },
  {
   "cell_type": "code",
   "execution_count": 5,
   "metadata": {
    "ExecuteTime": {
     "end_time": "2019-08-08T12:16:30.901890Z",
     "start_time": "2019-08-08T12:16:30.849146Z"
    }
   },
   "outputs": [
    {
     "name": "stdout",
     "output_type": "stream",
     "text": [
      "Check credit_card_expiration_date...\n",
      "Success!\n",
      "\n",
      "Check gender column...\n",
      "Success!\n",
      "\n",
      "Check loan column...\n",
      "Success!\n",
      "\n"
     ]
    }
   ],
   "source": [
    "def validate_input_data(input_data):\n",
    "    \"\"\"Check correspondence of input values data to the defined format.\"\"\"\n",
    "    fail_message = 'Warning. Failed to fit the format!\\n'\n",
    "    success_message = 'Success!\\n'\n",
    "    \n",
    "    print('Check credit_card_expiration_date...')\n",
    "    dates_patterns = [bool(re.match('^[0-1][0-9]/[2][0-5]$', card_exp_date)) for \n",
    "                      (record_id, name, card_numb, card_exp_date, gender, loan) in data]\n",
    "    if np.all(dates_patterns):\n",
    "        print(success_message)\n",
    "    else:\n",
    "        print(fail_message)\n",
    "    \n",
    "    print('Check gender column...')\n",
    "    gender_col_vals = set(gender for (record_id, name, card_numb, card_exp_date, gender, loan) in input_data)\n",
    "    if len(gender_col_vals) == 2 and [val for val in gender_col_vals if val.lower() in ['f', 'm']]:\n",
    "        print(success_message)\n",
    "    else:\n",
    "        print(fail_message)\n",
    "        \n",
    "    print('Check loan column...')\n",
    "    loan_col_vals = np.array([loan for (record_id, name, card_numb, card_exp_date, gender, loan) \n",
    "                                in input_data])\n",
    "    if np.all(loan_col_vals > 1000) and np.all(loan_col_vals < 100000):\n",
    "        print(success_message)\n",
    "    else:\n",
    "        print(fail_message)\n",
    "    \n",
    "    \n",
    "validate_input_data(data)"
   ]
  },
  {
   "cell_type": "code",
   "execution_count": 6,
   "metadata": {
    "ExecuteTime": {
     "end_time": "2019-08-08T12:16:33.897476Z",
     "start_time": "2019-08-08T12:16:33.872194Z"
    }
   },
   "outputs": [
    {
     "name": "stdout",
     "output_type": "stream",
     "text": [
      "Value of significance = 0.016942460937499987 P-value =  0.9363853437255386 \n",
      "It shows that generated uniform distribution is close to distribution of loans because p-value is close to 1\n"
     ]
    }
   ],
   "source": [
    "#Check whether loan values are uniformly distributed\n",
    "kstest_res_on_loan_col = stats.kstest(\n",
    "    np.array([loan for (record_id, name, card_numb, card_exp_date, gender, loan) in data]), \n",
    "    stats.uniform(loc=1000, scale=100000).cdf\n",
    ")\n",
    "ks_statistic, p_value = kstest_res_on_loan_col.statistic, kstest_res_on_loan_col.pvalue\n",
    "\n",
    "#Kolmogorov-Smirnov test helps to check similarity of distributions\n",
    "print('Value of significance =', ks_statistic, 'P-value = ', p_value, \n",
    "      '\\nIt shows that generated uniform distribution is close to distribution of loans',\n",
    "      'because p-value is close to 1')"
   ]
  },
  {
   "cell_type": "markdown",
   "metadata": {},
   "source": [
    "Data requirements:\n",
    "\n",
    "1. There should be up to 12 records with the same full_name while the other data can be different. A particular number of such records should be uniformly distributed\n",
    "2. The user-defined random number seed should be used to generate the same data again if you define the same seed. \n",
    "3. Data should be saved into a CSV file: \n",
    "InputData_YYYYMM_SEED_YYYYMMDDHHMMSS.csv, \n",
    "here YYYYMM - valuation_date (e.g. 2020/01), \n",
    "SEED - random number generator seed (see #2),\n",
    "YYYYMMDDHHMMSS - timestamp of the moment when the file was published on the file system\n",
    "4. The number of records is not limited but should be statistically representative\n"
   ]
  },
  {
   "cell_type": "code",
   "execution_count": 7,
   "metadata": {
    "ExecuteTime": {
     "end_time": "2019-08-08T12:16:35.091442Z",
     "start_time": "2019-08-08T12:16:35.051918Z"
    },
    "scrolled": true
   },
   "outputs": [
    {
     "name": "stdout",
     "output_type": "stream",
     "text": [
      "Data has no duplicates in the full name columns. Generating duplicates...\n"
     ]
    }
   ],
   "source": [
    "def generate_duplicated_names(input_data, reduce_to_percent=0.8):\n",
    "    names = np.array([name for (record_id, name, card_numb, card_exp_date, gender, loan) in input_data])\n",
    "    if names.size == np.unique(names).size:\n",
    "        print('Data has no duplicates in the full name columns. Generating duplicates...')\n",
    "        ids, names, card_numbs, card_dates, genders, loans = zip(*input_data)\n",
    "        reduced_names_set = names[:int(len(names)*reduce_to_percent)]\n",
    "        return np.array(tuple(list(\n",
    "            zip(ids, cycle(reduced_names_set), card_numbs, card_dates, genders, loans))\n",
    "        ))\n",
    "    else:\n",
    "        print('Data has records with duplicated full names.')\n",
    "        return input_data\n",
    "    \n",
    "data = generate_duplicated_names(data)"
   ]
  },
  {
   "cell_type": "code",
   "execution_count": 8,
   "metadata": {
    "ExecuteTime": {
     "end_time": "2019-08-08T12:16:36.464746Z",
     "start_time": "2019-08-08T12:16:36.455579Z"
    }
   },
   "outputs": [],
   "source": [
    "stage_mapping_to_filename = {1: {'filename': 'InputData', 'extension': 'csv'}, \n",
    "                             2: {'filename': 'MappedInputData', 'extension': 'npy'}, \n",
    "                             3: {'filename': 'LoanData', 'extension': 'npy'}}\n",
    "\n",
    "def save_data(data_to_save, stage_number, random_seed=RANDOM_SEED):\n",
    "    file_info_per_stage = stage_mapping_to_filename.get(stage_number)\n",
    "    date_published = datetime.now().strftime(\"%Y%m%d%H%M%S\")\n",
    "    valuation_date = datetime.now().strftime(\"%Y%m\")\n",
    "    \n",
    "    np.savetxt('{filename}_{valuation_date}_{seed}_{date_published}.{file_extension}'.format(\n",
    "        filename=file_info_per_stage.get('filename'), file_extension=file_info_per_stage.get('extension'),\n",
    "        valuation_date=valuation_date, seed=random_seed, date_published=date_published\n",
    "    ), X=data_to_save, delimiter=',', fmt=\"%s\")"
   ]
  },
  {
   "cell_type": "markdown",
   "metadata": {},
   "source": [
    "# Stage 2"
   ]
  },
  {
   "cell_type": "markdown",
   "metadata": {},
   "source": [
    "Data extraction, transformation and validation\n",
    "\n",
    "A Numpy array of records should be created:\n",
    "\n",
    "1. user_id - integer number (primary key, an identity of the user)\n",
    "2. gender - integer number\n",
    "3. expiration_date - integer year, integer month and integer day (end-of-month). Should be present as special numpy dtype\n",
    "3. loan - floating point number array with a size 10 (number of payment programs)\n",
    "\n",
    "Some separate tables will be useful too:\n",
    "1. Mapping of the user_name to user_id (or backward)\n",
    "2. Mapping of gender real name to its integer representation\n",
    "3. Assuming we have 10 payment programs we can create a mapping of their ids to their names (e.g. P0, P2 etc. or any other unique names)"
   ]
  },
  {
   "cell_type": "code",
   "execution_count": 9,
   "metadata": {
    "ExecuteTime": {
     "end_time": "2019-08-08T12:16:38.072555Z",
     "start_time": "2019-08-08T12:16:38.048543Z"
    }
   },
   "outputs": [],
   "source": [
    "def generate_data(num_records):\n",
    "        person = Person('en')\n",
    "        payment = Payment()\n",
    "        \n",
    "        array_size = 10\n",
    "                \n",
    "        dtype = np.dtype([\n",
    "            ('user_name', np.unicode_, 32),\n",
    "            ('user_id', np.unicode_, 32),\n",
    "            ('expiration_date', np.unicode_, 8),\n",
    "            ('gender', np.unicode_, 1),\n",
    "            ('gender_int', np.unicode_, 1),\n",
    "            ('loan', np.float64, (array_size,))\n",
    "        ])\n",
    "\n",
    "        np.random.seed(RANDOM_SEED)\n",
    "        rng = np.random.randint(0, 2, num_records)\n",
    "\n",
    "        records_npy = np.empty(num_records, dtype=dtype)\n",
    "        for idx in range(num_records):\n",
    "            gender = Gender.MALE if rng[idx] == 0 else Gender.FEMALE\n",
    "            records_npy['user_name'][idx] = person.full_name(gender=gender)\n",
    "            records_npy['user_id'][idx] = payment.credit_card_number(card_type=CardType.VISA)\n",
    "            records_npy['expiration_date'][idx] = payment.credit_card_expiration_date(\n",
    "                maximum=25, minimum=20, )\n",
    "            records_npy['gender'][idx] = 'M' if rng[idx] == 0 else 'F'\n",
    "            records_npy['gender_int'][idx] = rng[idx]\n",
    "            records_npy['loan'][idx] = np.random.uniform(low=1000, high=100000, size=array_size)\n",
    "        \n",
    "        records_npy = records_npy[:num_records]\n",
    "\n",
    "        return records_npy\n",
    "\n",
    "def form_data_tables(generated_data):\n",
    "    \"\"\"Preprocess generated data and form distinct tables.\"\"\"\n",
    "    user_names, user_ids, cards_exp_dates, gender, gender_int, loans = zip(*generated_data)\n",
    "    \n",
    "    #add last day of month to the dates\n",
    "    cards_exp_dates = ['{day}/{month}/{year}'.format(\n",
    "        day=calendar.monthrange(int('20{}'.format(year)), int(month))[1], \n",
    "        month=month, year=year\n",
    "    ) for month, year in [str_date.split('/') for str_date in cards_exp_dates]]\n",
    "    \n",
    "    records_table = convert_zip_objects_to_array(zip(user_ids, gender, cards_exp_dates, loans))\n",
    "    user_names_table = convert_zip_objects_to_array(zip(user_ids, user_names))\n",
    "    genders_table = np.unique(\n",
    "        convert_zip_objects_to_array(\n",
    "            zip(gender_int, gender)\n",
    "        ), axis=0)\n",
    "    payment_programs_table = np.array(\n",
    "        [('P{program_numb}'.format(program_numb=program_numb), program_numb) for program_numb in range(10)])\n",
    "    \n",
    "    return records_table, user_names_table, genders_table, payment_programs_table\n",
    "\n",
    "def convert_zip_objects_to_array(zip_object):\n",
    "    \"\"\"Convert zip object to numpy array.\"\"\"\n",
    "    return np.array(tuple(list(zip_object)))"
   ]
  },
  {
   "cell_type": "code",
   "execution_count": 34,
   "metadata": {
    "ExecuteTime": {
     "end_time": "2019-08-08T12:19:30.965374Z",
     "start_time": "2019-08-08T12:19:30.931257Z"
    },
    "scrolled": true
   },
   "outputs": [],
   "source": [
    "init_data = generate_data(200)\n",
    "records, user_names, genders, payment_programs = form_data_tables(init_data)"
   ]
  },
  {
   "cell_type": "code",
   "execution_count": 35,
   "metadata": {
    "ExecuteTime": {
     "end_time": "2019-08-08T12:19:32.574561Z",
     "start_time": "2019-08-08T12:19:32.568074Z"
    }
   },
   "outputs": [
    {
     "data": {
      "text/plain": [
       "array([['0', 'M'],\n",
       "       ['1', 'F']], dtype='<U1')"
      ]
     },
     "execution_count": 35,
     "metadata": {},
     "output_type": "execute_result"
    }
   ],
   "source": [
    "genders"
   ]
  },
  {
   "cell_type": "code",
   "execution_count": 36,
   "metadata": {
    "ExecuteTime": {
     "end_time": "2019-08-08T12:19:33.078437Z",
     "start_time": "2019-08-08T12:19:33.072681Z"
    },
    "scrolled": true
   },
   "outputs": [
    {
     "data": {
      "text/plain": [
       "array([['P0', '0'],\n",
       "       ['P1', '1'],\n",
       "       ['P2', '2'],\n",
       "       ['P3', '3'],\n",
       "       ['P4', '4'],\n",
       "       ['P5', '5'],\n",
       "       ['P6', '6'],\n",
       "       ['P7', '7'],\n",
       "       ['P8', '8'],\n",
       "       ['P9', '9']], dtype='<U2')"
      ]
     },
     "execution_count": 36,
     "metadata": {},
     "output_type": "execute_result"
    }
   ],
   "source": [
    "payment_programs"
   ]
  },
  {
   "cell_type": "markdown",
   "metadata": {},
   "source": [
    "Validation\n",
    "1. All users having repeatable records should be excluded if occurred in the initial file more 10 times. \n",
    "2. Such (#1) user_names should be stored in the invalid_user_list (can be numpy array of Unicode strings)\n"
   ]
  },
  {
   "cell_type": "code",
   "execution_count": 37,
   "metadata": {
    "ExecuteTime": {
     "end_time": "2019-08-08T12:19:36.191660Z",
     "start_time": "2019-08-08T12:19:36.092373Z"
    }
   },
   "outputs": [],
   "source": [
    "invalid_user_list = np.empty([])\n",
    "\n",
    "def delete_repeatable_records(data, max_allowed_repitions=10):\n",
    "    data_as_df = pd.DataFrame(data)\n",
    "    data_as_df.columns = ['user_id', 'gender', 'exp_date', 'loan']\n",
    "    duplicates = data_as_df.reset_index(drop=False).astype(str).groupby(\n",
    "        data_as_df.columns.to_list()).count().rename(columns={'index':'n_repeated_records'}).reset_index()\n",
    "    \n",
    "    duplicated_user_ids = duplicates[duplicates['n_repeated_records'] > max_allowed_repitions]['user_id']\n",
    "    invalid_user_list = np.array(duplicated_user_ids)\n",
    "    \n",
    "    clean_df_from_duplicates = pd.concat([\n",
    "        data_as_df[data_as_df['user_id'].isin(duplicated_user_ids)].drop_duplicates(['user_id']),\n",
    "        data_as_df[~data_as_df['user_id'].isin(duplicated_user_ids)]\n",
    "    ])\n",
    "    \n",
    "    return np.array(clean_df_from_duplicates)\n",
    "\n",
    "records = delete_repeatable_records(records)"
   ]
  },
  {
   "cell_type": "markdown",
   "metadata": {},
   "source": [
    "Fill in loan columns\n",
    "1. The id_program is defined by the incremental sum of all digits in VISA id of the record until you get a one-digit number\n",
    "2. Loans with the same id_program received from different records should be aggregated (sum)\n",
    "\n",
    "The result can be saved to MappedInputData_YYYYMM_SEED_YYYYMMDDHHMMSS.npy. Notice, YYYYMM_SEED_YYYYMMDDHHMMSS should be equal to CSV one so we can always track the sources"
   ]
  },
  {
   "cell_type": "code",
   "execution_count": 38,
   "metadata": {
    "ExecuteTime": {
     "end_time": "2019-08-08T12:19:37.441257Z",
     "start_time": "2019-08-08T12:19:37.423444Z"
    }
   },
   "outputs": [],
   "source": [
    "def get_incremental_sum(digits_list):\n",
    "    \"\"\"Get cumilative sum of provided list of digits. Sum digits until one-digit number is provided as a result\"\"\"\n",
    "    inc_sum = 0            \n",
    "    for i in range(len(digits_list)):\n",
    "        if inc_sum + digits_list[i] < 10:\n",
    "            inc_sum = inc_sum + digits_list[i] \n",
    "        else:\n",
    "            break\n",
    "    \n",
    "    return inc_sum\n",
    "\n",
    "def fill_loan_columns(data):\n",
    "    \"\"\"Add program id and aggregated sum to the records\"\"\"\n",
    "    card_digits = [[int(digit) for digit in list(card_numb.replace(' ', ''))] for card_numb in data[:, 0]]\n",
    "    id_program_list = np.array([[get_incremental_sum(digits)] for digits in card_digits])\n",
    "    data_with_sum = np.concatenate((data, id_program_list), axis=1)\n",
    "    \n",
    "    aggr_sum_per_program, loans_sums = aggregate_sums(data_with_sum)\n",
    "    res_as_df = pd.DataFrame(data_with_sum, columns=['user_id', 'gender', 'exp_date', 'loans', 'program_id']\n",
    "                            ).merge(\n",
    "        pd.DataFrame(aggr_sum_per_program, columns=['program_id', 'aggr_sum']))\n",
    "    res_as_df['loans_sums'] = loans_sums\n",
    "    \n",
    "    return np.array(res_as_df)\n",
    "\n",
    "def aggregate_sums(data):    \n",
    "    \"\"\"Aggregating loans with same id program from different records.\"\"\"\n",
    "    loans_sums = np.array([sum(loans_arr) for loans_arr in data[:, 3]])\n",
    "    loans_programs_per_user = np.array(list(zip(loans_sums, data[:, 4])))\n",
    "      \n",
    "    uniq_payment_programs = np.unique(data[:, 4])\n",
    "    aggr_sum_per_program = [(\n",
    "        program_id, \n",
    "        loans_programs_per_user[loans_programs_per_user[:, 1] == program_id][:, 0].sum()\n",
    "    ) for program_id in uniq_payment_programs]\n",
    "        \n",
    "    return aggr_sum_per_program, loans_sums"
   ]
  },
  {
   "cell_type": "code",
   "execution_count": 39,
   "metadata": {
    "ExecuteTime": {
     "end_time": "2019-08-08T12:19:38.522214Z",
     "start_time": "2019-08-08T12:19:38.500114Z"
    }
   },
   "outputs": [],
   "source": [
    "records_with_pay_programs = fill_loan_columns(records)"
   ]
  },
  {
   "cell_type": "markdown",
   "metadata": {},
   "source": [
    "# Stage 3. Simulation and Analysis"
   ]
  },
  {
   "cell_type": "markdown",
   "metadata": {},
   "source": [
    "Assumptions (This data can be stored in numpy arrays):\n",
    "\n",
    "standard_monthly_payment_rate = 1E-4\n",
    "mortality_correction_for_payment_rate = MALE: 1.01, FEMALE: 0.99\n",
    "fixed_to_floating_limit = 700000 \n",
    "standard_deviation_for_flaoting_rate = P0: 0.01, P2: 0.01 ... P9: 0.09 (different for each program)\\"
   ]
  },
  {
   "cell_type": "code",
   "execution_count": 40,
   "metadata": {
    "ExecuteTime": {
     "end_time": "2019-08-08T12:19:39.723420Z",
     "start_time": "2019-08-08T12:19:39.716878Z"
    }
   },
   "outputs": [],
   "source": [
    "standard_monthly_payment_rate = np.array(1e-4)\n",
    "fixed_to_floating_limit = 700000 \n",
    "\n",
    "mortality_correction_for_payment_rate = {'M': 1.01, 'F': 0.99}\n",
    "#np.array(list({'M': 1.01, 'F': 0.99}.items()))\n",
    "\n",
    "standard_deviation_for_floating_rate = dict(\n",
    "    zip(payment_programs[:, 0],\n",
    "    [rate / 100 for rate in np.random.randint(10, 90, 20)])\n",
    ")"
   ]
  },
  {
   "cell_type": "markdown",
   "metadata": {
    "ExecuteTime": {
     "end_time": "2019-08-04T08:33:03.359724Z",
     "start_time": "2019-08-04T08:33:03.344370Z"
    }
   },
   "source": [
    "Calculation:\n",
    "\n",
    "1. For each user record we do the projection starting from valuation_date (01/19) to the expiration_date\n",
    "2. Each projection step is equal to one month\n",
    "3. Loan on each step is an accumulated sum of current loan value + payment\n",
    "4. Payment is calculated as the previous loan multiplied by payment rate and corresponding mortality correction\n",
    "5. A standard rate can be floating or fixed depending on the total loan (sum of all 10 programs) of the user account (record). If a total loan is less than a limit then it is fixed otherwise it is floating\n",
    "6. The floating payment rate is calculated as a random number generated by log-normal distribution with expected value equal to standard rate and corresponding stdev\n",
    "7. user_id should be a seed of the random number generator used in #6\n",
    "8. Each floating period should be calculated using 100 random number sequences (scenarios)\n",
    "\n",
    "The result should be an array of loans with the size number of programs x number of scenarios (10 x 100). These results should be saved to LoanData_YYYYMM_SEED_YYYYMMDDHHMMSS.npy\n"
   ]
  },
  {
   "cell_type": "code",
   "execution_count": 17,
   "metadata": {
    "ExecuteTime": {
     "end_time": "2019-08-08T12:16:47.441717Z",
     "start_time": "2019-08-08T12:16:47.435384Z"
    }
   },
   "outputs": [],
   "source": [
    "def get_payment_rate(user_id, program_name, loans_sum):\n",
    "    \"\"\"Get payment rate for the record based on loans sum.\"\"\"\n",
    "    if loans_sum >= fixed_to_floating_limit:\n",
    "        np.random.seed(int(user_id.replace(' ', '')) % 10000)\n",
    "        #otherwise ValueError: Seed must be between 0 and 2**32 - 1\n",
    "        st_dev = standard_deviation_for_floating_rate.get(program_name)\n",
    "        return np.random.lognormal(\n",
    "            mean=standard_monthly_payment_rate, sigma=st_dev, size=1)\n",
    "    else:\n",
    "        return standard_monthly_payment_rate"
   ]
  },
  {
   "cell_type": "code",
   "execution_count": 41,
   "metadata": {
    "ExecuteTime": {
     "end_time": "2019-08-08T12:19:41.616374Z",
     "start_time": "2019-08-08T12:19:41.600385Z"
    }
   },
   "outputs": [],
   "source": [
    "def get_projections(records_data):\n",
    "    projections, expected_values = [], []\n",
    "    for val in records_data:\n",
    "        payment_program_name = payment_programs[payment_programs[:, 1] == str(val[4])][:, 0][0]\n",
    "        expected_values.append(standard_deviation_for_floating_rate.get(payment_program_name))\n",
    "        projections.append(np.array([\n",
    "            float(\n",
    "                cur_loan + get_payment(val[0], get_previos_loan(i, val[3]), val[6], payment_program_name, val[1]))\n",
    "            for i, cur_loan in enumerate(val[3])\n",
    "        ]))\n",
    "    records_data_with_projections = pd.DataFrame(records_data)\n",
    "    records_data_with_projections['projections'] = projections\n",
    "    records_data_with_projections['expected_values'] = expected_values\n",
    "    return np.array(records_data_with_projections)\n",
    "        \n",
    "def get_previos_loan(cur_loan_index, loans_list):\n",
    "    \"\"\"Get previous loan value for current loan.\"\"\"\n",
    "    if cur_loan_index > 0:\n",
    "        if cur_loan_index < len(loans_list):\n",
    "            return loans_list[cur_loan_index-1]\n",
    "        else:\n",
    "            raise IndexError('List index out of range')\n",
    "    else:\n",
    "        return None\n",
    "    \n",
    "def get_payment(user_id, prev_loan, loans_sum, program_name, gender):\n",
    "    \"\"\"Caclulate value of the payment for the step.\"\"\"\n",
    "    if prev_loan:\n",
    "        payment_rate = get_payment_rate(user_id, program_name, loans_sum)\n",
    "        mortality_correction = mortality_correction_for_payment_rate.get(gender)\n",
    "        return prev_loan*payment_rate*mortality_correction\n",
    "    else:\n",
    "        return 0"
   ]
  },
  {
   "cell_type": "code",
   "execution_count": 42,
   "metadata": {
    "ExecuteTime": {
     "end_time": "2019-08-08T12:19:42.162516Z",
     "start_time": "2019-08-08T12:19:42.134483Z"
    },
    "scrolled": true
   },
   "outputs": [],
   "source": [
    "records_with_projections = get_projections(records_with_pay_programs)"
   ]
  },
  {
   "cell_type": "markdown",
   "metadata": {},
   "source": [
    "Test task has insufficient data for making the projection - it lacks dates of loans so it would be possible to evaluate at each time step which loan is considered to be current and the payments could be calculated correspondingly"
   ]
  },
  {
   "cell_type": "code",
   "execution_count": 72,
   "metadata": {
    "ExecuteTime": {
     "end_time": "2019-08-08T12:24:45.003678Z",
     "start_time": "2019-08-08T12:24:44.766062Z"
    },
    "scrolled": true
   },
   "outputs": [],
   "source": [
    "save_data(data, 1)\n",
    "save_data(records_with_pay_programs, 2)\n",
    "save_data(records_with_projections, 3)"
   ]
  },
  {
   "cell_type": "markdown",
   "metadata": {},
   "source": [
    "# Analysis"
   ]
  },
  {
   "cell_type": "markdown",
   "metadata": {},
   "source": [
    "1. Plot histogram for each program and total \n",
    "2. Calculate corresponding Expected Values and 5%, 25%, 75%, 95% Quantiles"
   ]
  },
  {
   "cell_type": "code",
   "execution_count": 69,
   "metadata": {
    "ExecuteTime": {
     "end_time": "2019-08-08T12:23:27.018394Z",
     "start_time": "2019-08-08T12:23:27.010125Z"
    }
   },
   "outputs": [],
   "source": [
    "def plot_hist(programs_aggr_sums, plot_opacity=0.4,\n",
    "             figwidth=7, figheight=4):\n",
    "    total_programs_sum = programs_aggr_sums.sum()\n",
    "    program_info_to_plot = list(programs_aggr_sums)\n",
    "    \n",
    "    fig, ax = plt.subplots(figsize=(figwidth, figheight))\n",
    "    plt.hist(program_info_to_plot, facecolor='blue', alpha=plot_opacity)\n",
    "    plt.show()\n",
    "    plt.hist(total_programs_sum)\n",
    "    plt.title('Total')\n",
    "    plt.show()"
   ]
  },
  {
   "cell_type": "code",
   "execution_count": 70,
   "metadata": {
    "ExecuteTime": {
     "end_time": "2019-08-08T12:23:27.885767Z",
     "start_time": "2019-08-08T12:23:27.278299Z"
    },
    "scrolled": false
   },
   "outputs": [
    {
     "data": {
      "image/png": "[encoded data removed]",
      "text/plain": [
       "<Figure size 504x288 with 1 Axes>"
      ]
     },
     "metadata": {
      "needs_background": "light"
     },
     "output_type": "display_data"
    },
    {
     "data": {
      "image/png": "[encoded data removed]",
      "text/plain": [
       "<Figure size 432x288 with 1 Axes>"
      ]
     },
     "metadata": {
      "needs_background": "light"
     },
     "output_type": "display_data"
    }
   ],
   "source": [
    "plot_hist(records_with_projections[:, 5])"
   ]
  },
  {
   "cell_type": "code",
   "execution_count": 71,
   "metadata": {
    "ExecuteTime": {
     "end_time": "2019-08-08T12:23:37.100479Z",
     "start_time": "2019-08-08T12:23:37.071485Z"
    },
    "scrolled": true
   },
   "outputs": [
    {
     "data": {
      "text/html": [
       "<div>\n",
       "<style scoped>\n",
       "    .dataframe tbody tr th:only-of-type {\n",
       "        vertical-align: middle;\n",
       "    }\n",
       "\n",
       "    .dataframe tbody tr th {\n",
       "        vertical-align: top;\n",
       "    }\n",
       "\n",
       "    .dataframe thead th {\n",
       "        text-align: right;\n",
       "    }\n",
       "</style>\n",
       "<table border=\"1\" class=\"dataframe\">\n",
       "  <thead>\n",
       "    <tr style=\"text-align: right;\">\n",
       "      <th></th>\n",
       "      <th>index</th>\n",
       "    </tr>\n",
       "  </thead>\n",
       "  <tbody>\n",
       "    <tr>\n",
       "      <th>count</th>\n",
       "      <td>200.000000</td>\n",
       "    </tr>\n",
       "    <tr>\n",
       "      <th>mean</th>\n",
       "      <td>99.500000</td>\n",
       "    </tr>\n",
       "    <tr>\n",
       "      <th>std</th>\n",
       "      <td>57.879185</td>\n",
       "    </tr>\n",
       "    <tr>\n",
       "      <th>min</th>\n",
       "      <td>0.000000</td>\n",
       "    </tr>\n",
       "    <tr>\n",
       "      <th>25%</th>\n",
       "      <td>49.750000</td>\n",
       "    </tr>\n",
       "    <tr>\n",
       "      <th>50%</th>\n",
       "      <td>99.500000</td>\n",
       "    </tr>\n",
       "    <tr>\n",
       "      <th>75%</th>\n",
       "      <td>149.250000</td>\n",
       "    </tr>\n",
       "    <tr>\n",
       "      <th>95%</th>\n",
       "      <td>189.050000</td>\n",
       "    </tr>\n",
       "    <tr>\n",
       "      <th>max</th>\n",
       "      <td>199.000000</td>\n",
       "    </tr>\n",
       "  </tbody>\n",
       "</table>\n",
       "</div>"
      ],
      "text/plain": [
       "            index\n",
       "count  200.000000\n",
       "mean    99.500000\n",
       "std     57.879185\n",
       "min      0.000000\n",
       "25%     49.750000\n",
       "50%     99.500000\n",
       "75%    149.250000\n",
       "95%    189.050000\n",
       "max    199.000000"
      ]
     },
     "execution_count": 71,
     "metadata": {},
     "output_type": "execute_result"
    }
   ],
   "source": [
    "pd.DataFrame(records_with_projections[:, 8], columns=['expected_values']\n",
    "            ).reset_index(drop=False\n",
    "                         ).describe(percentiles=[0.5, 0.25, 0.75, 0.95])"
   ]
  }
 ],
 "metadata": {
  "hide_input": false,
  "kernelspec": {
   "display_name": "Python 3",
   "language": "python",
   "name": "python3"
  },
  "language_info": {
   "codemirror_mode": {
    "name": "ipython",
    "version": 3
   },
   "file_extension": ".py",
   "mimetype": "text/x-python",
   "name": "python",
   "nbconvert_exporter": "python",
   "pygments_lexer": "ipython3",
   "version": "3.6.6"
  },
  "toc": {
   "base_numbering": 1,
   "nav_menu": {},
   "number_sections": true,
   "sideBar": true,
   "skip_h1_title": false,
   "title_cell": "Table of Contents",
   "title_sidebar": "Contents",
   "toc_cell": false,
   "toc_position": {},
   "toc_section_display": true,
   "toc_window_display": false
  }
 },
 "nbformat": 4,
 "nbformat_minor": 2
}
